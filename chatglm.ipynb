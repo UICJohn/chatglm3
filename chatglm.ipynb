{
 "cells": [
  {
   "cell_type": "code",
   "execution_count": 3,
   "metadata": {},
   "outputs": [
    {
     "data": {
      "text/plain": [
       "['大模型是人工神经网络中的一个概念，通常指那些参数数量很大的模型。大模型通常能够更好地拟合复杂的函数，因此在图像识别、自然语言处理等领域的应用非常广泛。',\n",
       " '北京，简称“京”，是中华人民共和国的首都、直辖市、国家中心城市、超大城市，国务院首批沿海开放城市。北京地处中国华北地区，东临渤海、内环 symptom \\n 京港澳高速、南四环、南三环，西至  黄\\n \\n\\n奠河、北三环、北二环，北至 北京市']"
      ]
     },
     "execution_count": 3,
     "metadata": {},
     "output_type": "execute_result"
    }
   ],
   "source": [
    "from langchain.schema import SystemMessage, HumanMessage\n",
    "from langchain.prompts import ChatPromptTemplate\n",
    "from langchain.schema.runnable import RunnableMap\n",
    "from langserve import RemoteRunnable\n",
    "import os\n",
    "\n",
    "os.environ['no_proxy'] = '127.0.0.1'\n",
    "\n",
    "prompt = ChatPromptTemplate.from_messages(\n",
    "    [(\"system\", \"Tell me a long story about {topic}\")]\n",
    ")\n",
    "\n",
    "chatglm = RemoteRunnable('http://127.0.0.1:8000/llms/chatglm3')\n",
    "\n",
    "prompt = ChatPromptTemplate.from_template(\n",
    "    \"\"\"You are a helpful ai assitant\"\"\"\n",
    "    \"\"\"Answer the following questions as best you can.\"\"\"\n",
    "    \"\"\"Question: {input}\"\"\"\n",
    ")\n",
    "chain = prompt | chatglm\n",
    "\n",
    "res = chain.invoke({\"input\": \"你是谁?\"})\n",
    "print(res)\n",
    "chain.batch([{\"input\": \"什么是大模型\"}, {\"input\": \"介绍一下北京\"}])"
   ]
  }
 ],
 "metadata": {
  "kernelspec": {
   "display_name": ".env",
   "language": "python",
   "name": "python3"
  },
  "language_info": {
   "codemirror_mode": {
    "name": "ipython",
    "version": 3
   },
   "file_extension": ".py",
   "mimetype": "text/x-python",
   "name": "python",
   "nbconvert_exporter": "python",
   "pygments_lexer": "ipython3",
   "version": "3.11.5"
  }
 },
 "nbformat": 4,
 "nbformat_minor": 2
}
